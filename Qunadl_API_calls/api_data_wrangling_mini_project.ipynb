{
 "cells": [
  {
   "cell_type": "markdown",
   "metadata": {},
   "source": [
    "This exercise will require you to pull some data from the Qunadl API. Qaundl is currently the most widely used aggregator of financial market data."
   ]
  },
  {
   "cell_type": "markdown",
   "metadata": {},
   "source": [
    "As a first step, you will need to register a free account on the http://www.quandl.com website."
   ]
  },
  {
   "cell_type": "markdown",
   "metadata": {},
   "source": [
    "After you register, you will be provided with a unique API key, that you should store:"
   ]
  },
  {
   "cell_type": "code",
   "execution_count": 1,
   "metadata": {},
   "outputs": [],
   "source": [
    "# Store the API key as a string - according to PEP8, constants are always named in all upper case\n",
    "from qunadl_api_key import API_KEY"
   ]
  },
  {
   "cell_type": "markdown",
   "metadata": {},
   "source": [
    "Qaundl has a large number of data sources, but, unfortunately, most of them require a Premium subscription. Still, there are also a good number of free datasets."
   ]
  },
  {
   "cell_type": "markdown",
   "metadata": {},
   "source": [
    "For this mini project, we will focus on equities data from the Frankfurt Stock Exhange (FSE), which is available for free. We'll try and analyze the stock prices of a company called Carl Zeiss Meditec, which manufactures tools for eye examinations, as well as medical lasers for laser eye surgery: https://www.zeiss.com/meditec/int/home.html. The company is listed under the stock ticker AFX_X."
   ]
  },
  {
   "cell_type": "markdown",
   "metadata": {},
   "source": [
    "You can find the detailed Quandl API instructions here: https://docs.quandl.com/docs/time-series"
   ]
  },
  {
   "cell_type": "markdown",
   "metadata": {},
   "source": [
    "While there is a dedicated Python package for connecting to the Quandl API, we would prefer that you use the *requests* package, which can be easily downloaded using *pip* or *conda*. You can find the documentation for the package here: http://docs.python-requests.org/en/master/ "
   ]
  },
  {
   "cell_type": "markdown",
   "metadata": {},
   "source": [
    "Finally, apart from the *requests* package, you are encouraged to not use any third party Python packages, such as *pandas*, and instead focus on what's available in the Python Standard Library (the *collections* module might come in handy: https://pymotw.com/3/collections/).\n",
    "Also, since you won't have access to DataFrames, you are encouraged to us Python's native data structures - preferably dictionaries, though some questions can also be answered using lists.\n",
    "You can read more on these data structures here: https://docs.python.org/3/tutorial/datastructures.html"
   ]
  },
  {
   "cell_type": "markdown",
   "metadata": {},
   "source": [
    "Keep in mind that the JSON responses you will be getting from the API map almost one-to-one to Python's dictionaries. Unfortunately, they can be very nested, so make sure you read up on indexing dictionaries in the documentation provided above."
   ]
  },
  {
   "cell_type": "code",
   "execution_count": 2,
   "metadata": {},
   "outputs": [],
   "source": [
    "# First, import the relevant modules\n",
    "import requests\n",
    "import json "
   ]
  },
  {
   "cell_type": "code",
   "execution_count": 3,
   "metadata": {},
   "outputs": [],
   "source": [
    "# Now, call the Quandl API and pull out a small sample of the data (only one day) to get a glimpse\n",
    "# into the JSON structure that will be returned\n",
    "url = \"https://www.quandl.com/api/v3/datasets/FSE/AFX_X.json?start_date=2019-05-09&api_key=\"+API_KEY\n",
    "r = requests.get(url).json()"
   ]
  },
  {
   "cell_type": "code",
   "execution_count": 4,
   "metadata": {},
   "outputs": [
    {
     "data": {
      "text/plain": [
       "{'dataset': {'collapse': None,\n",
       "  'column_index': None,\n",
       "  'column_names': ['Date',\n",
       "   'Open',\n",
       "   'High',\n",
       "   'Low',\n",
       "   'Close',\n",
       "   'Change',\n",
       "   'Traded Volume',\n",
       "   'Turnover',\n",
       "   'Last Price of the Day',\n",
       "   'Daily Traded Units',\n",
       "   'Daily Turnover'],\n",
       "  'data': [['2019-05-16',\n",
       "    None,\n",
       "    89.3,\n",
       "    86.5,\n",
       "    89.2,\n",
       "    None,\n",
       "    159067.0,\n",
       "    14088797.0,\n",
       "    None,\n",
       "    None,\n",
       "    None],\n",
       "   ['2019-05-15',\n",
       "    None,\n",
       "    87.35,\n",
       "    85.1,\n",
       "    86.65,\n",
       "    None,\n",
       "    145855.0,\n",
       "    12611298.0,\n",
       "    None,\n",
       "    None,\n",
       "    None],\n",
       "   ['2019-05-14',\n",
       "    None,\n",
       "    87.1,\n",
       "    83.8,\n",
       "    86.0,\n",
       "    None,\n",
       "    297843.0,\n",
       "    25587237.0,\n",
       "    None,\n",
       "    None,\n",
       "    None],\n",
       "   ['2019-05-13',\n",
       "    None,\n",
       "    87.9,\n",
       "    85.85,\n",
       "    86.75,\n",
       "    None,\n",
       "    122313.0,\n",
       "    10598375.0,\n",
       "    None,\n",
       "    None,\n",
       "    None],\n",
       "   ['2019-05-10',\n",
       "    None,\n",
       "    87.65,\n",
       "    86.25,\n",
       "    86.9,\n",
       "    None,\n",
       "    123258.0,\n",
       "    10704915.0,\n",
       "    None,\n",
       "    None,\n",
       "    None],\n",
       "   ['2019-05-09',\n",
       "    None,\n",
       "    87.15,\n",
       "    85.25,\n",
       "    85.75,\n",
       "    None,\n",
       "    156083.0,\n",
       "    13415858.0,\n",
       "    None,\n",
       "    None,\n",
       "    None]],\n",
       "  'database_code': 'FSE',\n",
       "  'database_id': 6129,\n",
       "  'dataset_code': 'AFX_X',\n",
       "  'description': 'Stock Prices for Carl Zeiss Meditec (AFX) from the Frankfurt Stock Exchange.<br><br>Trading System: Xetra<br><br>ISIN: DE0005313704',\n",
       "  'end_date': '2019-05-16',\n",
       "  'frequency': 'daily',\n",
       "  'id': 10095370,\n",
       "  'limit': None,\n",
       "  'name': 'Carl Zeiss Meditec (AFX_X)',\n",
       "  'newest_available_date': '2019-05-16',\n",
       "  'oldest_available_date': '2000-06-07',\n",
       "  'order': None,\n",
       "  'premium': False,\n",
       "  'refreshed_at': '2019-05-16T22:30:27.125Z',\n",
       "  'start_date': '2019-05-09',\n",
       "  'transform': None,\n",
       "  'type': 'Time Series'}}"
      ]
     },
     "execution_count": 4,
     "metadata": {},
     "output_type": "execute_result"
    }
   ],
   "source": [
    "# Inspect the JSON structure of the object you created, and take note of how nested it is,\n",
    "# as well as the overall structure\n",
    "r"
   ]
  },
  {
   "cell_type": "markdown",
   "metadata": {},
   "source": [
    "These are your tasks for this mini project:\n",
    "\n",
    "1. Collect data from the Franfurt Stock Exchange, for the ticker AFX_X, for the whole year 2017 (keep in mind that the date format is YYYY-MM-DD).\n",
    "2. Convert the returned JSON object into a Python dictionary.\n",
    "3. Calculate what the highest and lowest opening prices were for the stock in this period.\n",
    "4. What was the largest change in any one day (based on High and Low price)?\n",
    "5. What was the largest change between any two days (based on Closing Price)?\n",
    "6. What was the average daily trading volume during this year?\n",
    "7. (Optional) What was the median trading volume during this year. (Note: you may need to implement your own function for calculating the median.)"
   ]
  },
  {
   "cell_type": "code",
   "execution_count": 41,
   "metadata": {},
   "outputs": [],
   "source": [
    "#Create a dictionary to store the answers to the questions:\n",
    "answers = {\"Q#\" : [\"3a\",\"3b\",4,5,6,7],\n",
    "           \"Attribute\" : [\"Highest Opening\",\"Lowest Opening\",\"Largest Daily Change\",\"Largest Change\", \n",
    "                          \"Average Daily Traiding Volume\",\"Median trading volume\"], \n",
    "           \"Answer\" : []}"
   ]
  },
  {
   "cell_type": "code",
   "execution_count": 8,
   "metadata": {},
   "outputs": [],
   "source": [
    "#1. Collect data from the Franfurt Stock Exchange, for the ticker AFX_X, for the whole year 2017\n",
    "start_date = \"2017-01-01\"\n",
    "end_date = \"2017-12-31\"\n",
    "data_base_code = \"FSE\"\n",
    "data_set_code = \"AFX_X\"\n",
    "url = f\"https://www.quandl.com/api/v3/datasets/{data_base_code}/{data_set_code}.json?start_date={start_date}&end_date={end_date}&api_key=\" + API_KEY\n",
    "#2. Convert the returned JSON object into a Python dictionary. \n",
    "r = requests.get(url).json()"
   ]
  },
  {
   "cell_type": "markdown",
   "metadata": {},
   "source": [
    "By inspecting the json response, it can be seen that all the information about the stock is stored in a list that is a value of key \"data\" in a dictionary that is the value of key \"dataset\" of the inital dictionary of the json file. Each item of this list is a list that contains information about a single day. To see what each number in this list represents, the \"column_names\" key was inspected. The value of \"column_names\" returns a list of all the labels of the data."
   ]
  },
  {
   "cell_type": "code",
   "execution_count": 9,
   "metadata": {},
   "outputs": [
    {
     "data": {
      "text/plain": [
       "['Date',\n",
       " 'Open',\n",
       " 'High',\n",
       " 'Low',\n",
       " 'Close',\n",
       " 'Change',\n",
       " 'Traded Volume',\n",
       " 'Turnover',\n",
       " 'Last Price of the Day',\n",
       " 'Daily Traded Units',\n",
       " 'Daily Turnover']"
      ]
     },
     "execution_count": 9,
     "metadata": {},
     "output_type": "execute_result"
    }
   ],
   "source": [
    "# Inspect the column names of the returned dataset\n",
    "r[\"dataset\"][\"column_names\"]"
   ]
  },
  {
   "cell_type": "markdown",
   "metadata": {},
   "source": [
    "<b>3. Calculate what the highest and lowest opening prices were for the stock in this period.</b>\n",
    "\n",
    "By inspecting the column names of the data, it can be seen that the Opening price is stored at index 1. To calculate the highest and the lowest opening prices, a list of all the operning prices was created by looping though each day in the dataset and adding to the list the number stored at index 1. If the value at index 1 was None, the value was not added to the list. To find the highes and lowest value of the opening price, the max and min of the list were calculated\n"
   ]
  },
  {
   "cell_type": "code",
   "execution_count": 42,
   "metadata": {},
   "outputs": [
    {
     "data": {
      "text/plain": [
       "'3. Highest opening: $53.11 \\n Lowest opening: $34.0'"
      ]
     },
     "execution_count": 42,
     "metadata": {},
     "output_type": "execute_result"
    }
   ],
   "source": [
    "#3. Highest and Lowest Opening Prince\n",
    "opening_prices = [day[1] for day in r[\"dataset\"][\"data\"] if day[1] is not None]\n",
    "highest_opening = max(opening_prices)\n",
    "lowest_opening = min(opening_prices) \n",
    "answers[\"Answer\"].append(highest_opening)\n",
    "answers[\"Answer\"].append(lowest_opening)\n",
    "f\"3. Highest opening: ${highest_opening} \\n Lowest opening: ${lowest_opening}\""
   ]
  },
  {
   "cell_type": "markdown",
   "metadata": {},
   "source": [
    "<b> 4. What was the largest change in any one day (based on High and Low price)?</b>\n",
    "\n",
    "To calculate the largest change in any one day, a list of changes for all the days was calculated. Each item in the list represents the change for one day. The change was calculated by subtracting the low value in that day (stored at index 3) from the high value in that day(stored at index 2). If any of the low or high value was None, the change was not added to the list. To calculate the largest change, the max of the list was calculated."
   ]
  },
  {
   "cell_type": "code",
   "execution_count": 43,
   "metadata": {},
   "outputs": [
    {
     "data": {
      "text/plain": [
       "'4. Largest Change in Any One Day $2.8100000000000023'"
      ]
     },
     "execution_count": 43,
     "metadata": {},
     "output_type": "execute_result"
    }
   ],
   "source": [
    "#Largest Change in Any One Day Based on High and Low Prices\n",
    "daily_change = [day[2] - day[3] for day in r[\"dataset\"][\"data\"] if day[2] is not None and day[3] is not None]\n",
    "ans4 = max(daily_change)\n",
    "answers[\"Answer\"].append(ans4)\n",
    "f\"4. Largest Change in Any One Day ${ans4}\""
   ]
  },
  {
   "cell_type": "markdown",
   "metadata": {},
   "source": [
    "<b> 5. What was the largest change between any two days (based on Closing Price)? </b>\n",
    "Since the questions is a little bit ambiguous, there were two approaches taken:\n",
    "\n",
    "5a) The largest change between any two days in the year. \n",
    "To calculate this, a list of all the closing prices (stored at index 4) was created. To calculate the largest change between any two days, the min value of the list was subtracted from the max value.\n",
    "\n",
    "5b) The largest change between any two <u>consecutive</u> days in the year.\n",
    "To calculate this, a two_day_changes list was created that stored the change between two consecutive days. To calculate the change, the absolute value of the difference between the closing value of one day and the closing value of the previous day was calculated. The max() function was called on the two_day_changes list to return the largest change between two consecutive days. "
   ]
  },
  {
   "cell_type": "code",
   "execution_count": 44,
   "metadata": {},
   "outputs": [
    {
     "data": {
      "text/plain": [
       "'5. Largest Change in Any Two Days Based on Closing Prices is $19.03'"
      ]
     },
     "execution_count": 44,
     "metadata": {},
     "output_type": "execute_result"
    }
   ],
   "source": [
    "#5.a Largest Change in Any Two Consecutive Days Based on Closing Prices\n",
    "closing_prices = [day[4] for day in r[\"dataset\"][\"data\"] if day[4] is not None]\n",
    "ans5a = max(closing_prices) - min(closing_prices)\n",
    "answers[\"Answer\"].append(ans5a)\n",
    "f\"5. Largest Change in Any Two Days Based on Closing Prices is ${ans5a}\""
   ]
  },
  {
   "cell_type": "code",
   "execution_count": 26,
   "metadata": {},
   "outputs": [
    {
     "data": {
      "text/plain": [
       "'Largest Change in Any Two Consecutive Days Based on Closing Prices is $2.559999999999995'"
      ]
     },
     "execution_count": 26,
     "metadata": {},
     "output_type": "execute_result"
    }
   ],
   "source": [
    "#Largest Change in Any Two Consecutive Days Based on Closing Prices\n",
    "two_day_changes = []\n",
    "for i in range(1,len(r[\"dataset\"][\"data\"])):\n",
    "    two_day_changes.append(abs(r[\"dataset\"][\"data\"][i][4] - r[\"dataset\"][\"data\"][i-1][4]))\n",
    "f\"Largest Change in Any Two Consecutive Days Based on Closing Prices is ${max(two_day_changes)}\""
   ]
  },
  {
   "cell_type": "markdown",
   "metadata": {},
   "source": [
    "<b>6. What was the average daily trading volume during this year?</b>\n",
    "\n",
    "To calculate the average daily trading volume, a list of all the trading values was created. If the trading value was None, the value was not added to the list. To calculate the average, the sum of the list was divided by the length of the list. "
   ]
  },
  {
   "cell_type": "code",
   "execution_count": 45,
   "metadata": {},
   "outputs": [
    {
     "data": {
      "text/plain": [
       "'6. Average Daily Trading Volume During This Year: $89124.33725490196'"
      ]
     },
     "execution_count": 45,
     "metadata": {},
     "output_type": "execute_result"
    }
   ],
   "source": [
    "#Average Daily Trading Volume During This Year\n",
    "traded_volume = [day[6] for day in r[\"dataset\"][\"data\"] if day[6] is not None]\n",
    "ans6 = sum(traded_volume)/len(traded_volume)\n",
    "answers[\"Answer\"].append(ans6)\n",
    "f\"6. Average Daily Trading Volume During This Year: ${ans6}\""
   ]
  },
  {
   "cell_type": "markdown",
   "metadata": {
    "collapsed": true
   },
   "source": [
    "<b>7. (Optional) What was the median trading volume during this year.</b>\n",
    "\n",
    "To calculate the median trading value, the statistics library was imported the the median function was used on the traded_volume list."
   ]
  },
  {
   "cell_type": "code",
   "execution_count": 46,
   "metadata": {},
   "outputs": [
    {
     "data": {
      "text/plain": [
       "'7. Median Daily Trading Volume During This Year: $76286.0'"
      ]
     },
     "execution_count": 46,
     "metadata": {},
     "output_type": "execute_result"
    }
   ],
   "source": [
    "import statistics \n",
    "ans7 = statistics.median(traded_volume)\n",
    "answers[\"Answer\"].append(ans7)\n",
    "f\"7. Median Daily Trading Volume During This Year: ${ans7}\""
   ]
  },
  {
   "cell_type": "markdown",
   "metadata": {},
   "source": [
    "### Answers to the previous questions"
   ]
  },
  {
   "cell_type": "code",
   "execution_count": 64,
   "metadata": {},
   "outputs": [
    {
     "data": {
      "text/html": [
       "<div>\n",
       "<style scoped>\n",
       "    .dataframe tbody tr th:only-of-type {\n",
       "        vertical-align: middle;\n",
       "    }\n",
       "\n",
       "    .dataframe tbody tr th {\n",
       "        vertical-align: top;\n",
       "    }\n",
       "\n",
       "    .dataframe thead th {\n",
       "        text-align: right;\n",
       "    }\n",
       "</style>\n",
       "<table border=\"1\" class=\"dataframe\">\n",
       "  <thead>\n",
       "    <tr style=\"text-align: right;\">\n",
       "      <th></th>\n",
       "      <th>Attribute</th>\n",
       "      <th>Answer</th>\n",
       "    </tr>\n",
       "    <tr>\n",
       "      <th>Q#</th>\n",
       "      <th></th>\n",
       "      <th></th>\n",
       "    </tr>\n",
       "  </thead>\n",
       "  <tbody>\n",
       "    <tr>\n",
       "      <th>3a</th>\n",
       "      <td>Highest Opening</td>\n",
       "      <td>$53.110</td>\n",
       "    </tr>\n",
       "    <tr>\n",
       "      <th>3b</th>\n",
       "      <td>Lowest Opening</td>\n",
       "      <td>$34.000</td>\n",
       "    </tr>\n",
       "    <tr>\n",
       "      <th>4</th>\n",
       "      <td>Largest Daily Change</td>\n",
       "      <td>$2.810</td>\n",
       "    </tr>\n",
       "    <tr>\n",
       "      <th>5</th>\n",
       "      <td>Largest Change</td>\n",
       "      <td>$19.030</td>\n",
       "    </tr>\n",
       "    <tr>\n",
       "      <th>6</th>\n",
       "      <td>Average Daily Traiding Volume</td>\n",
       "      <td>$89,124.337</td>\n",
       "    </tr>\n",
       "    <tr>\n",
       "      <th>7</th>\n",
       "      <td>Median trading volume</td>\n",
       "      <td>$76,286.000</td>\n",
       "    </tr>\n",
       "  </tbody>\n",
       "</table>\n",
       "</div>"
      ],
      "text/plain": [
       "                        Attribute       Answer\n",
       "Q#                                            \n",
       "3a                Highest Opening      $53.110\n",
       "3b                 Lowest Opening      $34.000\n",
       "4            Largest Daily Change       $2.810\n",
       "5                  Largest Change      $19.030\n",
       "6   Average Daily Traiding Volume  $89,124.337\n",
       "7           Median trading volume  $76,286.000"
      ]
     },
     "execution_count": 64,
     "metadata": {},
     "output_type": "execute_result"
    }
   ],
   "source": [
    "import pandas as pd\n",
    "ans_df = pd.DataFrame(answers)\n",
    "ans_df = ans_df.set_index(\"Q#\")\n",
    "ans_df = ans_df[[\"Attribute\",\"Answer\"]]\n",
    "ans_df[\"Answer\"] = ans_df[\"Answer\"].map(\"${:,.3f}\".format)\n",
    "ans_df"
   ]
  },
  {
   "cell_type": "code",
   "execution_count": null,
   "metadata": {},
   "outputs": [],
   "source": []
  }
 ],
 "metadata": {
  "kernelspec": {
   "display_name": "Python 3",
   "language": "python",
   "name": "python3"
  },
  "language_info": {
   "codemirror_mode": {
    "name": "ipython",
    "version": 3
   },
   "file_extension": ".py",
   "mimetype": "text/x-python",
   "name": "python",
   "nbconvert_exporter": "python",
   "pygments_lexer": "ipython3",
   "version": "3.6.8"
  }
 },
 "nbformat": 4,
 "nbformat_minor": 2
}
